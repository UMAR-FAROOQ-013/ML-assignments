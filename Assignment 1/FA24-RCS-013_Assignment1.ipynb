{
 "cells": [
  {
   "cell_type": "markdown",
   "id": "5e69b38b-7b19-419a-ba8d-55daf9c7bc9d",
   "metadata": {},
   "source": [
    "# REGISTRATION NUMBER :  FA24-RCS-013"
   ]
  },
  {
   "cell_type": "markdown",
   "id": "43a2b871-8429-43af-b8f1-4bae4bf256b2",
   "metadata": {},
   "source": [
    "# Task 1"
   ]
  },
  {
   "cell_type": "markdown",
   "id": "940e5f32-00ae-4150-9bf5-cf849d26f03d",
   "metadata": {},
   "source": [
    "### 1.1. Create a list: nums = [3, 5, 7, 8, 12], make another list named ‘cubes’ and append the cubes of the given list ‘nums’ in this list and print it."
   ]
  },
  {
   "cell_type": "code",
   "execution_count": 1,
   "id": "1539fb91-6f6a-4bb8-9272-f895acb23af6",
   "metadata": {},
   "outputs": [],
   "source": [
    "nums = [3, 5, 7, 8, 12]"
   ]
  },
  {
   "cell_type": "code",
   "execution_count": 2,
   "id": "8681687a-742e-449f-a765-731dedea63ff",
   "metadata": {},
   "outputs": [],
   "source": [
    "cubes = []"
   ]
  },
  {
   "cell_type": "code",
   "execution_count": 3,
   "id": "11bb5518-2e5b-4d17-8ff7-f74667d67350",
   "metadata": {},
   "outputs": [],
   "source": [
    "for a in nums:\n",
    "    cubes.append(a ** 3)"
   ]
  },
  {
   "cell_type": "code",
   "execution_count": 4,
   "id": "ac4650cf-a37c-4077-b11f-35a3c3ffc887",
   "metadata": {},
   "outputs": [
    {
     "name": "stdout",
     "output_type": "stream",
     "text": [
      "Cubes of nums: [27, 125, 343, 512, 1728]\n"
     ]
    }
   ],
   "source": [
    "print(\"Cubes of nums:\", cubes)"
   ]
  },
  {
   "cell_type": "markdown",
   "id": "5ee736fd-a5d2-49e2-8699-22ad92b31dd0",
   "metadata": {},
   "source": [
    "### 1.2. Create an empty dictionary: dict = {}, add the following data to the dictionary: ‘parrot’: 2, ‘goat’: 4, ‘spider’: 8, ‘crab’: 10 as key value pairs."
   ]
  },
  {
   "cell_type": "code",
   "execution_count": 5,
   "id": "76f03f5e-acce-461e-9651-e73218ec12eb",
   "metadata": {},
   "outputs": [],
   "source": [
    "dict = {}"
   ]
  },
  {
   "cell_type": "code",
   "execution_count": 6,
   "id": "bf04db6d-b8cd-4997-8bfc-170a995ad4eb",
   "metadata": {},
   "outputs": [],
   "source": [
    "dict['parrot'] = 2\n",
    "dict['goat'] = 4\n",
    "dict['spider'] = 8\n",
    "dict['crab'] = 10"
   ]
  },
  {
   "cell_type": "markdown",
   "id": "da662368-0221-4eec-a910-d303af748965",
   "metadata": {},
   "source": [
    "### 1.3. Use the ‘items’ method to loop over the dictionary (dict) and print the animals and their corresponding legs. Sum the legs of each animal, and print the total at the end."
   ]
  },
  {
   "cell_type": "code",
   "execution_count": 7,
   "id": "fbd7fcd6-07d5-4125-bafa-90ce21870710",
   "metadata": {},
   "outputs": [],
   "source": [
    "corresponding_legs = 0"
   ]
  },
  {
   "cell_type": "code",
   "execution_count": 8,
   "id": "98951822-74ae-4f6a-884a-f181fcb98893",
   "metadata": {},
   "outputs": [
    {
     "name": "stdout",
     "output_type": "stream",
     "text": [
      "parrot has 2 legs\n",
      "goat has 4 legs\n",
      "spider has 8 legs\n",
      "crab has 10 legs\n"
     ]
    }
   ],
   "source": [
    "for animal, legs in dict.items():\n",
    "    print(\"%s has %d legs\" % (animal, legs))\n",
    "    corresponding_legs += legs"
   ]
  },
  {
   "cell_type": "code",
   "execution_count": 9,
   "id": "fa72799a-1909-47b4-9065-b66a64ff1325",
   "metadata": {},
   "outputs": [
    {
     "name": "stdout",
     "output_type": "stream",
     "text": [
      "Total legs of all animals= 24\n"
     ]
    }
   ],
   "source": [
    "print(\"Total legs of all animals=\", corresponding_legs)"
   ]
  },
  {
   "cell_type": "markdown",
   "id": "f42f4cfb-7bbf-484a-9604-b00331343ad1",
   "metadata": {},
   "source": [
    "### 1.4. Create a tuple: A = (3, 9, 4, [5, 6]), change the value in the list from ‘5’ to ‘8’."
   ]
  },
  {
   "cell_type": "code",
   "execution_count": 10,
   "id": "48fd3833-b17c-48f0-bdfb-b0ee8d6b342f",
   "metadata": {},
   "outputs": [],
   "source": [
    "A = (3, 9, 4, [5, 6])"
   ]
  },
  {
   "cell_type": "code",
   "execution_count": 11,
   "id": "859b4122-2788-4980-a4ef-e1ffd8e356f9",
   "metadata": {},
   "outputs": [],
   "source": [
    "A[3][0] = 8"
   ]
  },
  {
   "cell_type": "code",
   "execution_count": 12,
   "id": "0e381d6a-4857-497b-8946-1618c7cb1caa",
   "metadata": {},
   "outputs": [
    {
     "name": "stdout",
     "output_type": "stream",
     "text": [
      "tuple A = (3, 9, 4, [8, 6])\n"
     ]
    }
   ],
   "source": [
    "print(\"tuple A =\", A)"
   ]
  },
  {
   "cell_type": "markdown",
   "id": "8e57dee2-cff2-41e6-bf76-1bb5fecfc539",
   "metadata": {},
   "source": [
    "### 1.5. Delete the tuple A"
   ]
  },
  {
   "cell_type": "code",
   "execution_count": 13,
   "id": "61a1e152-e6ee-4b17-af6b-a5398df32043",
   "metadata": {},
   "outputs": [],
   "source": [
    "del A"
   ]
  },
  {
   "cell_type": "markdown",
   "id": "2c88e894-f8bc-4efd-886a-18f018f08442",
   "metadata": {},
   "source": [
    "### 1.6. Create another tuple: B = (‘a’, ‘p’, ‘p’, ‘l’, ‘e’), print the number of occurrences of ‘p’ in the tuple."
   ]
  },
  {
   "cell_type": "code",
   "execution_count": 14,
   "id": "81960da1-396f-4489-800c-a1ea24da991d",
   "metadata": {},
   "outputs": [],
   "source": [
    "B = ('a', 'p', 'p', 'l', 'e')"
   ]
  },
  {
   "cell_type": "code",
   "execution_count": 15,
   "id": "fdc0ddac-0476-401c-8f1c-071105425b93",
   "metadata": {},
   "outputs": [],
   "source": [
    "counter = B.count('p')"
   ]
  },
  {
   "cell_type": "code",
   "execution_count": 16,
   "id": "a6db1ad0-ecac-4731-8e36-fec0afef1eae",
   "metadata": {},
   "outputs": [
    {
     "name": "stdout",
     "output_type": "stream",
     "text": [
      "number of p are= 2\n"
     ]
    }
   ],
   "source": [
    "print(\"number of p are=\", counter)"
   ]
  },
  {
   "cell_type": "markdown",
   "id": "51d48d05-f05d-43fc-8912-34a64a5e00eb",
   "metadata": {},
   "source": [
    "### 1.7. Print the index of ‘l’ in the tuple."
   ]
  },
  {
   "cell_type": "code",
   "execution_count": 17,
   "id": "cb5c4b78-e07e-474b-90db-72d6e0f82eb9",
   "metadata": {},
   "outputs": [],
   "source": [
    "index_of_l = B.index('l')"
   ]
  },
  {
   "cell_type": "code",
   "execution_count": 18,
   "id": "eb9e043d-df55-45dc-907e-43394acd72ff",
   "metadata": {},
   "outputs": [
    {
     "name": "stdout",
     "output_type": "stream",
     "text": [
      "index of l is = 3\n"
     ]
    }
   ],
   "source": [
    "print(\"index of l is =\", index_of_l)"
   ]
  },
  {
   "cell_type": "markdown",
   "id": "1f34cc4d-5226-4ed5-ad9b-c06371b0059a",
   "metadata": {},
   "source": [
    "# Task 2"
   ]
  },
  {
   "cell_type": "code",
   "execution_count": 19,
   "id": "aa2e155b-ea23-478e-8067-d189a75a6404",
   "metadata": {},
   "outputs": [],
   "source": [
    "import numpy as np"
   ]
  },
  {
   "cell_type": "markdown",
   "id": "e0ffb416-5bb0-4047-83b8-b4a205771d56",
   "metadata": {},
   "source": [
    "### 2.1 Convert matrix A into numpy array"
   ]
  },
  {
   "cell_type": "code",
   "execution_count": 20,
   "id": "29c46728-5124-4cdc-b72a-f1a1737b27b3",
   "metadata": {},
   "outputs": [],
   "source": [
    "A = np.array([[1, 2, 3, 4],\n",
    "              [5, 6, 7, 8],\n",
    "              [9, 10, 11, 12]])"
   ]
  },
  {
   "cell_type": "markdown",
   "id": "bbe92db5-fa5b-4aab-9b7f-023e7070581a",
   "metadata": {},
   "source": [
    "### 2.2 Use slicing to pull out the subarray consisting of the first 2 rows and columns 1 and 2. Store it in b which is a numpy array of shape (2, 2)."
   ]
  },
  {
   "cell_type": "code",
   "execution_count": 21,
   "id": "df815fdc-4fb1-4ba9-9b0f-7b5059d0f035",
   "metadata": {},
   "outputs": [],
   "source": [
    "Slice = A[:2, :2] "
   ]
  },
  {
   "cell_type": "code",
   "execution_count": 22,
   "id": "05f3b92d-0ee5-493c-834e-7aaee549b8e4",
   "metadata": {},
   "outputs": [
    {
     "name": "stdout",
     "output_type": "stream",
     "text": [
      "[[1 2]\n",
      " [5 6]]\n"
     ]
    }
   ],
   "source": [
    "print(Slice)"
   ]
  },
  {
   "cell_type": "markdown",
   "id": "58fe1db7-5793-4b2c-924c-a9d73f2d10a1",
   "metadata": {},
   "source": [
    "#### 2.3 Create an empty matrix ‘C’ with the same shape as ‘A’."
   ]
  },
  {
   "cell_type": "code",
   "execution_count": 23,
   "id": "3b3752ce-68d6-4162-ade7-f1901f237c0d",
   "metadata": {},
   "outputs": [],
   "source": [
    "C = np.empty_like(A)"
   ]
  },
  {
   "cell_type": "code",
   "execution_count": 24,
   "id": "555533ad-8230-4fb2-8169-4dbd8f9d42c2",
   "metadata": {},
   "outputs": [
    {
     "name": "stdout",
     "output_type": "stream",
     "text": [
      "[[4128860 6029375 3801155 5570652]\n",
      " [6619251 7536754 4456540 4980805]\n",
      " [6029388 7340097 4456560 7602273]]\n"
     ]
    }
   ],
   "source": [
    "print(C)"
   ]
  },
  {
   "cell_type": "markdown",
   "id": "3b7ad0e1-756f-4f98-a686-ce83ef81d16a",
   "metadata": {},
   "source": [
    "### 2.4 Add the vector z to each column of the matrix ‘A’ with an explicit loop and store it in ‘C’."
   ]
  },
  {
   "cell_type": "code",
   "execution_count": 25,
   "id": "0f26b605-dd1a-412d-ae53-261048123dda",
   "metadata": {},
   "outputs": [],
   "source": [
    "z = np.array([1, 0, 1])"
   ]
  },
  {
   "cell_type": "code",
   "execution_count": 26,
   "id": "eb22dd6a-f819-4034-9db9-45243f8495f3",
   "metadata": {},
   "outputs": [],
   "source": [
    "for i in range(A.shape[1]):\n",
    "    C[:, i] = A[:, i] + z"
   ]
  },
  {
   "cell_type": "code",
   "execution_count": 27,
   "id": "86d60ca0-a223-4396-8ee2-c92bcf250857",
   "metadata": {},
   "outputs": [
    {
     "name": "stdout",
     "output_type": "stream",
     "text": [
      "[[ 2  3  4  5]\n",
      " [ 5  6  7  8]\n",
      " [10 11 12 13]]\n"
     ]
    }
   ],
   "source": [
    "print(C)"
   ]
  },
  {
   "cell_type": "markdown",
   "id": "a49f8cf1-642f-47e7-af46-f65a503bc9de",
   "metadata": {},
   "source": [
    "### Create the following:\n",
    "#### X = np.array([[1,2],[3,4]])\n",
    "#### Y = np.array([[5,6],[7,8]])\n",
    "#### v = np.array([9,10])\n"
   ]
  },
  {
   "cell_type": "code",
   "execution_count": 28,
   "id": "1e5c89cf-631a-413c-8cc8-97bdeab95c1d",
   "metadata": {},
   "outputs": [],
   "source": [
    "X = np.array([[1, 2], [3, 4]])"
   ]
  },
  {
   "cell_type": "code",
   "execution_count": 29,
   "id": "d687ae60-364e-4d46-b093-8fba83c46327",
   "metadata": {},
   "outputs": [],
   "source": [
    "Y = np.array([[5, 6], [7, 8]])"
   ]
  },
  {
   "cell_type": "code",
   "execution_count": 30,
   "id": "51063dab-bdfe-40c1-a5e9-801aa43a78d2",
   "metadata": {},
   "outputs": [],
   "source": [
    "v = np.array([9, 10])"
   ]
  },
  {
   "cell_type": "markdown",
   "id": "fed090d8-5451-4636-8739-aaef02b2b9ed",
   "metadata": {},
   "source": [
    "### 2.5 Add and print the matrices X and Y."
   ]
  },
  {
   "cell_type": "code",
   "execution_count": 31,
   "id": "d5848e9b-8df8-43aa-a035-136e50533b0e",
   "metadata": {},
   "outputs": [],
   "source": [
    "addition = X + Y"
   ]
  },
  {
   "cell_type": "code",
   "execution_count": 32,
   "id": "c0e8438e-970f-4eaa-b7eb-66cb99a5af3b",
   "metadata": {},
   "outputs": [
    {
     "name": "stdout",
     "output_type": "stream",
     "text": [
      "[[ 6  8]\n",
      " [10 12]]\n"
     ]
    }
   ],
   "source": [
    "print(addition)"
   ]
  },
  {
   "cell_type": "markdown",
   "id": "a92cf304-860a-4599-a2cc-e1fe058549cc",
   "metadata": {},
   "source": [
    "### 2.6 Multiply and print the matrices X and Y."
   ]
  },
  {
   "cell_type": "code",
   "execution_count": 33,
   "id": "20a9b30b-a2ee-49d7-b6bf-a86cc9fe913b",
   "metadata": {},
   "outputs": [],
   "source": [
    "multiply = np.dot(X, Y)"
   ]
  },
  {
   "cell_type": "code",
   "execution_count": 34,
   "id": "aba0fa69-a609-4847-8177-8994073ea093",
   "metadata": {},
   "outputs": [
    {
     "name": "stdout",
     "output_type": "stream",
     "text": [
      "[[19 22]\n",
      " [43 50]]\n"
     ]
    }
   ],
   "source": [
    "print(multiply)"
   ]
  },
  {
   "cell_type": "markdown",
   "id": "82726b9a-ddba-42ec-b643-710253d364fc",
   "metadata": {},
   "source": [
    "### 2.7 Compute and print the element wise square root of matrix Y."
   ]
  },
  {
   "cell_type": "code",
   "execution_count": 35,
   "id": "e97ae66e-24e7-41fa-b638-e96c4c49204c",
   "metadata": {},
   "outputs": [],
   "source": [
    "sq_root = np.sqrt(Y)"
   ]
  },
  {
   "cell_type": "code",
   "execution_count": 36,
   "id": "fb2d63e0-dfc5-4ec0-96ff-2d1cd393b454",
   "metadata": {},
   "outputs": [
    {
     "name": "stdout",
     "output_type": "stream",
     "text": [
      "[[2.23606798 2.44948974]\n",
      " [2.64575131 2.82842712]]\n"
     ]
    }
   ],
   "source": [
    "print(sq_root)"
   ]
  },
  {
   "cell_type": "markdown",
   "id": "ba5f54ac-d7de-454a-b53b-1c83d30bd699",
   "metadata": {},
   "source": [
    "### 2.8 Compute and print the dot product of the matrix X and vector v."
   ]
  },
  {
   "cell_type": "code",
   "execution_count": 37,
   "id": "f66c0293-2abe-45d8-b53a-6af59f683801",
   "metadata": {},
   "outputs": [],
   "source": [
    "result = np.dot(X, v)"
   ]
  },
  {
   "cell_type": "code",
   "execution_count": 38,
   "id": "324daf86-48b5-4355-9d02-4624c0552068",
   "metadata": {},
   "outputs": [
    {
     "name": "stdout",
     "output_type": "stream",
     "text": [
      "[29 67]\n"
     ]
    }
   ],
   "source": [
    "print(result)"
   ]
  },
  {
   "cell_type": "markdown",
   "id": "57c47f22-84f8-4358-81ca-407aa50c3e55",
   "metadata": {},
   "source": [
    "### 2.9 Compute and print the sum of each column of X."
   ]
  },
  {
   "cell_type": "code",
   "execution_count": 39,
   "id": "c9e88cb7-5010-4380-874b-00483b3384be",
   "metadata": {},
   "outputs": [],
   "source": [
    "sum = np.sum(X, axis=0)"
   ]
  },
  {
   "cell_type": "code",
   "execution_count": 40,
   "id": "2baa3a07-087f-45e1-9943-8f97dc0ffd7a",
   "metadata": {},
   "outputs": [
    {
     "name": "stdout",
     "output_type": "stream",
     "text": [
      "[4 6]\n"
     ]
    }
   ],
   "source": [
    "print(sum)"
   ]
  },
  {
   "cell_type": "markdown",
   "id": "f576ade9-b50e-40a3-812d-493acaaafbea",
   "metadata": {},
   "source": [
    "# task 3"
   ]
  },
  {
   "cell_type": "markdown",
   "id": "b0563a1a-ae59-4b96-b9c7-6167371a5442",
   "metadata": {},
   "source": [
    "### 3.1 Create a function ‘Compute’ that takes two arguments, distance and time, and use it to calculate velocity."
   ]
  },
  {
   "cell_type": "code",
   "execution_count": 41,
   "id": "3ff45bc0-016c-49dd-9534-aa574a2f54b2",
   "metadata": {},
   "outputs": [],
   "source": [
    "def Compute(d, t):\n",
    "    if t == 0:\n",
    "        return \"Time cannot be zero\"\n",
    "    v = d / t\n",
    "    return v"
   ]
  },
  {
   "cell_type": "code",
   "execution_count": 42,
   "id": "288a9a04-0a4a-4872-8efc-89e199e4a05c",
   "metadata": {},
   "outputs": [],
   "source": [
    "d = 34"
   ]
  },
  {
   "cell_type": "code",
   "execution_count": 43,
   "id": "0a081834-c898-4ef6-b357-bf488976b087",
   "metadata": {},
   "outputs": [],
   "source": [
    "t = 10  "
   ]
  },
  {
   "cell_type": "code",
   "execution_count": 44,
   "id": "a48cac04-f369-433c-a697-dd3215f81290",
   "metadata": {},
   "outputs": [],
   "source": [
    "v = Compute(d, t)"
   ]
  },
  {
   "cell_type": "code",
   "execution_count": 45,
   "id": "3b4bfa9d-e543-479f-bc03-b8b1aa1c7ad0",
   "metadata": {},
   "outputs": [
    {
     "name": "stdout",
     "output_type": "stream",
     "text": [
      "Velocity is: 3.4 m/s\n"
     ]
    }
   ],
   "source": [
    "print(f\"Velocity is: {v} m/s\")"
   ]
  },
  {
   "cell_type": "markdown",
   "id": "56df78b7-9fc4-4f91-aab6-49acd3834962",
   "metadata": {},
   "source": [
    "### 3.2 Make a list named ‘even_num’ that contains all even numbers up till 12. Create a function ‘mult’ that takes the list ‘even_num’ as an argument and calculates the products of all entries using a for loop."
   ]
  },
  {
   "cell_type": "code",
   "execution_count": 46,
   "id": "426441c2-69d6-4e2c-994f-122d07d6948e",
   "metadata": {},
   "outputs": [],
   "source": [
    "even_num = [2, 4, 6, 8, 10, 12]"
   ]
  },
  {
   "cell_type": "code",
   "execution_count": 47,
   "id": "31de9a73-77ae-4409-80ce-76afa229d037",
   "metadata": {},
   "outputs": [],
   "source": [
    "def mult(even_num):\n",
    "    product = 1  \n",
    "    for i in even_num:\n",
    "        product *= i\n",
    "    return product"
   ]
  },
  {
   "cell_type": "code",
   "execution_count": 48,
   "id": "4234fdc6-bc88-4f2c-88de-8fe40505d234",
   "metadata": {},
   "outputs": [],
   "source": [
    "entries = mult(even_num)"
   ]
  },
  {
   "cell_type": "code",
   "execution_count": 49,
   "id": "8b63f91d-de9d-4bb9-a4f7-4e56eb84b293",
   "metadata": {},
   "outputs": [
    {
     "name": "stdout",
     "output_type": "stream",
     "text": [
      "46080\n"
     ]
    }
   ],
   "source": [
    "print(entries)"
   ]
  },
  {
   "cell_type": "markdown",
   "id": "1143822c-a9cd-45d0-8de5-d0fafe918f5e",
   "metadata": {},
   "source": [
    "# task 4"
   ]
  },
  {
   "cell_type": "code",
   "execution_count": 50,
   "id": "a06a0df3-ed14-47bb-8706-8c2bb09820e6",
   "metadata": {},
   "outputs": [],
   "source": [
    "import pandas as pd"
   ]
  },
  {
   "cell_type": "code",
   "execution_count": 51,
   "id": "b79ff458-cb6d-4431-81d1-57aec7700258",
   "metadata": {},
   "outputs": [],
   "source": [
    "data_frame_data = {\n",
    "    'C1': [1, 2, 3, 5, 5],\n",
    "    'C2': [6, 7, 5, 4, 8],\n",
    "    'C3': [7, 9, 8, 6, 5],\n",
    "    'C4': [7, 5, 2, 8, 8]\n",
    "}"
   ]
  },
  {
   "cell_type": "code",
   "execution_count": 52,
   "id": "61cdb625-f6c2-4d8d-b57b-6c17b919ee4d",
   "metadata": {},
   "outputs": [],
   "source": [
    "data_frame = pd.DataFrame(data_frame_data)"
   ]
  },
  {
   "cell_type": "markdown",
   "id": "98ad835a-5d37-464d-b5ae-b5b1bc4f4dcf",
   "metadata": {},
   "source": [
    "### 4.1 Print only the first two rows of the dataframe."
   ]
  },
  {
   "cell_type": "code",
   "execution_count": 53,
   "id": "5f2b6d93-9f6d-4943-9504-99324dbc7ee4",
   "metadata": {},
   "outputs": [
    {
     "name": "stdout",
     "output_type": "stream",
     "text": [
      "   C1  C2  C3  C4\n",
      "0   1   6   7   7\n",
      "1   2   7   9   5\n"
     ]
    }
   ],
   "source": [
    "print(data_frame.head(2))"
   ]
  },
  {
   "cell_type": "markdown",
   "id": "d3b2f83f-71f2-42b7-b761-4722cc31b380",
   "metadata": {},
   "source": [
    "### 4.2 Print the second column."
   ]
  },
  {
   "cell_type": "code",
   "execution_count": 54,
   "id": "34a4f450-4f91-4e87-85e6-4ad79f0edd4d",
   "metadata": {},
   "outputs": [
    {
     "name": "stdout",
     "output_type": "stream",
     "text": [
      "0    6\n",
      "1    7\n",
      "2    5\n",
      "3    4\n",
      "4    8\n",
      "Name: C2, dtype: int64\n"
     ]
    }
   ],
   "source": [
    "print(data_frame['C2'])"
   ]
  },
  {
   "cell_type": "markdown",
   "id": "93ed65e7-7f71-4293-ad4b-f59f570b9d6a",
   "metadata": {},
   "source": [
    "### 4.3 Change the name of the third column from ‘C3’ to ‘B3’."
   ]
  },
  {
   "cell_type": "code",
   "execution_count": 55,
   "id": "6df21c12-4b99-4b1c-aa63-ac79b2a3e475",
   "metadata": {},
   "outputs": [],
   "source": [
    "data_frame.rename(columns={'C3': 'B3'}, inplace=True)"
   ]
  },
  {
   "cell_type": "code",
   "execution_count": 56,
   "id": "8b8949fb-cb6a-4ec2-a4f9-9d736f6d875f",
   "metadata": {},
   "outputs": [
    {
     "name": "stdout",
     "output_type": "stream",
     "text": [
      "   C1  C2  B3  C4\n",
      "0   1   6   7   7\n",
      "1   2   7   9   5\n",
      "2   3   5   8   2\n",
      "3   5   4   6   8\n",
      "4   5   8   5   8\n"
     ]
    }
   ],
   "source": [
    "print(data_frame)"
   ]
  },
  {
   "cell_type": "markdown",
   "id": "0643543e-194b-4a0e-b3aa-38be034e574f",
   "metadata": {},
   "source": [
    "### 4.4 Add a new column to the dataframe and name it ‘Sum’."
   ]
  },
  {
   "cell_type": "code",
   "execution_count": 57,
   "id": "d37514a3-8d00-49eb-a809-4a6586844a6c",
   "metadata": {},
   "outputs": [],
   "source": [
    "data_frame['Sum'] = 0"
   ]
  },
  {
   "cell_type": "markdown",
   "id": "319539d3-165f-406c-ba2d-a4abdce180e4",
   "metadata": {},
   "source": [
    "### 4.5 Sum the entries of each row and add the result in the column ‘Sum’."
   ]
  },
  {
   "cell_type": "code",
   "execution_count": 58,
   "id": "b2aa7a8e-0d7f-4566-a34d-2e8d12924f67",
   "metadata": {},
   "outputs": [],
   "source": [
    "data_frame['Sum'] = data_frame.sum(axis=1)"
   ]
  },
  {
   "cell_type": "code",
   "execution_count": 59,
   "id": "1a996f7f-ea09-4f48-ab36-edeb5c52fd12",
   "metadata": {},
   "outputs": [
    {
     "name": "stdout",
     "output_type": "stream",
     "text": [
      "   C1  C2  B3  C4  Sum\n",
      "0   1   6   7   7   21\n",
      "1   2   7   9   5   23\n",
      "2   3   5   8   2   18\n",
      "3   5   4   6   8   23\n",
      "4   5   8   5   8   26\n"
     ]
    }
   ],
   "source": [
    "print(data_frame)"
   ]
  },
  {
   "cell_type": "markdown",
   "id": "a15bb75b-d1f7-419b-a309-26112910d76b",
   "metadata": {},
   "source": [
    "### 4.6 Read CSV file named ‘hello_sample.csv’ (the file is available in the class Google Drive shared folder) into a Pandas dataframe."
   ]
  },
  {
   "cell_type": "code",
   "execution_count": 60,
   "id": "da2002bc-d97b-421e-a794-4260f6e4539c",
   "metadata": {},
   "outputs": [],
   "source": [
    "file = 'hello_sample.csv'"
   ]
  },
  {
   "cell_type": "code",
   "execution_count": 61,
   "id": "581c8613-5db1-4c51-9f07-5ee4948a18fc",
   "metadata": {},
   "outputs": [],
   "source": [
    "df = pd.read_csv(file)"
   ]
  },
  {
   "cell_type": "markdown",
   "id": "4a8be11a-38b2-4a25-84a0-fe45be1e0ff7",
   "metadata": {},
   "source": [
    "### 4.7 Print complete dataframe."
   ]
  },
  {
   "cell_type": "code",
   "execution_count": 62,
   "id": "3d33931a-7ecd-46d6-939e-ff939b604c81",
   "metadata": {},
   "outputs": [
    {
     "name": "stdout",
     "output_type": "stream",
     "text": [
      "    Gender  F_Color     B_Month  Weight\n",
      "0     Male    Black       March      77\n",
      "1     Male      Red       March      72\n",
      "2     Male    Black     October      53\n",
      "3   Female     Blue    February      63\n",
      "4     Male    black    October       80\n",
      "5   Female    Black    december      97\n",
      "6     Male   Orange      August      60\n",
      "7   Female      Red   September      59\n",
      "8     Male     Blue        July      60\n",
      "9     Male     Blue         May      58\n",
      "10  Female      Red    October       60\n",
      "11    Male    Black   September      65\n",
      "12    Male    Green    December      85\n",
      "13    Male    Black       April      72\n",
      "14    Male    Green    January       90\n",
      "15    Male   Yellow   November       90\n",
      "16    Male    Black      August      54\n",
      "17    Male    Black     January      82\n",
      "18    Male  Mustard   December       60\n",
      "19  Female    Black    October       76\n",
      "20    Male    Black   February       67\n",
      "21    Male   Yellow       April      74\n",
      "22    Male      Red  September       66\n"
     ]
    }
   ],
   "source": [
    "print(df)"
   ]
  },
  {
   "cell_type": "markdown",
   "id": "a11e02d5-2de4-45e8-9e11-513c0e5b0ebc",
   "metadata": {},
   "source": [
    "### 4.8 Print only bottom 2 records of the dataframe."
   ]
  },
  {
   "cell_type": "code",
   "execution_count": 63,
   "id": "ed8dc00a-597d-492f-af54-43ede49b9257",
   "metadata": {},
   "outputs": [
    {
     "name": "stdout",
     "output_type": "stream",
     "text": [
      "   Gender F_Color     B_Month  Weight\n",
      "21   Male  Yellow       April      74\n",
      "22   Male     Red  September       66\n"
     ]
    }
   ],
   "source": [
    "print(df.tail(2))"
   ]
  },
  {
   "cell_type": "markdown",
   "id": "41958b85-69e4-4a9e-adc3-78d487672a0a",
   "metadata": {},
   "source": [
    "### 4.9 Print information about the dataframe."
   ]
  },
  {
   "cell_type": "code",
   "execution_count": 64,
   "id": "a5c5c387-d8de-422c-8377-8025f10fef4e",
   "metadata": {},
   "outputs": [
    {
     "name": "stdout",
     "output_type": "stream",
     "text": [
      "<class 'pandas.core.frame.DataFrame'>\n",
      "RangeIndex: 23 entries, 0 to 22\n",
      "Data columns (total 4 columns):\n",
      " #   Column   Non-Null Count  Dtype \n",
      "---  ------   --------------  ----- \n",
      " 0   Gender   23 non-null     object\n",
      " 1   F_Color  23 non-null     object\n",
      " 2   B_Month  23 non-null     object\n",
      " 3   Weight   23 non-null     int64 \n",
      "dtypes: int64(1), object(3)\n",
      "memory usage: 868.0+ bytes\n",
      "None\n"
     ]
    }
   ],
   "source": [
    "print(df.info())"
   ]
  },
  {
   "cell_type": "markdown",
   "id": "c1080e2d-259f-4b13-bb72-7321fc005c01",
   "metadata": {},
   "source": [
    "### 4.10 Print shape (rows x columns) of the dataframe."
   ]
  },
  {
   "cell_type": "code",
   "execution_count": 65,
   "id": "93017f3d-3240-4a79-9769-7b179c82e0a8",
   "metadata": {},
   "outputs": [
    {
     "name": "stdout",
     "output_type": "stream",
     "text": [
      "(23, 4)\n"
     ]
    }
   ],
   "source": [
    "print(df.shape)"
   ]
  },
  {
   "cell_type": "markdown",
   "id": "8d58a4bb-43cc-4640-911c-6ea82ac18ce5",
   "metadata": {},
   "source": [
    "### 4.11 Sort the data of the dataFrame using column ‘Weight’."
   ]
  },
  {
   "cell_type": "code",
   "execution_count": 66,
   "id": "4e2f97cd-d62c-4597-9180-7706e92d99ba",
   "metadata": {},
   "outputs": [],
   "source": [
    "df_sorted = df.sort_values(by='Weight')"
   ]
  },
  {
   "cell_type": "code",
   "execution_count": 67,
   "id": "b1bda5ca-87dd-46f1-b001-100991e95d90",
   "metadata": {},
   "outputs": [
    {
     "name": "stdout",
     "output_type": "stream",
     "text": [
      "    Gender  F_Color     B_Month  Weight\n",
      "2     Male    Black     October      53\n",
      "16    Male    Black      August      54\n",
      "9     Male     Blue         May      58\n",
      "7   Female      Red   September      59\n",
      "18    Male  Mustard   December       60\n",
      "10  Female      Red    October       60\n",
      "6     Male   Orange      August      60\n",
      "8     Male     Blue        July      60\n",
      "3   Female     Blue    February      63\n",
      "11    Male    Black   September      65\n",
      "22    Male      Red  September       66\n",
      "20    Male    Black   February       67\n",
      "13    Male    Black       April      72\n",
      "1     Male      Red       March      72\n",
      "21    Male   Yellow       April      74\n",
      "19  Female    Black    October       76\n",
      "0     Male    Black       March      77\n",
      "4     Male    black    October       80\n",
      "17    Male    Black     January      82\n",
      "12    Male    Green    December      85\n",
      "14    Male    Green    January       90\n",
      "15    Male   Yellow   November       90\n",
      "5   Female    Black    december      97\n"
     ]
    }
   ],
   "source": [
    "print(df_sorted)"
   ]
  },
  {
   "cell_type": "markdown",
   "id": "34060ea3-7bb1-46ac-970f-28ce76f5cb6a",
   "metadata": {},
   "source": [
    "### 4.12 Use isnull() and dropna() methods of the Pandas dataframe and see if they produce any change"
   ]
  },
  {
   "cell_type": "code",
   "execution_count": 68,
   "id": "4f03bf24-f44e-443d-a4da-3c037038d8ae",
   "metadata": {},
   "outputs": [
    {
     "name": "stdout",
     "output_type": "stream",
     "text": [
      "    Gender  F_Color  B_Month  Weight\n",
      "0    False    False    False   False\n",
      "1    False    False    False   False\n",
      "2    False    False    False   False\n",
      "3    False    False    False   False\n",
      "4    False    False    False   False\n",
      "5    False    False    False   False\n",
      "6    False    False    False   False\n",
      "7    False    False    False   False\n",
      "8    False    False    False   False\n",
      "9    False    False    False   False\n",
      "10   False    False    False   False\n",
      "11   False    False    False   False\n",
      "12   False    False    False   False\n",
      "13   False    False    False   False\n",
      "14   False    False    False   False\n",
      "15   False    False    False   False\n",
      "16   False    False    False   False\n",
      "17   False    False    False   False\n",
      "18   False    False    False   False\n",
      "19   False    False    False   False\n",
      "20   False    False    False   False\n",
      "21   False    False    False   False\n",
      "22   False    False    False   False\n"
     ]
    }
   ],
   "source": [
    "print(df.isnull())"
   ]
  },
  {
   "cell_type": "code",
   "execution_count": 69,
   "id": "255c4760-0dd0-416a-b569-f3ba000f7bbd",
   "metadata": {},
   "outputs": [
    {
     "name": "stdout",
     "output_type": "stream",
     "text": [
      "    Gender  F_Color     B_Month  Weight\n",
      "0     Male    Black       March      77\n",
      "1     Male      Red       March      72\n",
      "2     Male    Black     October      53\n",
      "3   Female     Blue    February      63\n",
      "4     Male    black    October       80\n",
      "5   Female    Black    december      97\n",
      "6     Male   Orange      August      60\n",
      "7   Female      Red   September      59\n",
      "8     Male     Blue        July      60\n",
      "9     Male     Blue         May      58\n",
      "10  Female      Red    October       60\n",
      "11    Male    Black   September      65\n",
      "12    Male    Green    December      85\n",
      "13    Male    Black       April      72\n",
      "14    Male    Green    January       90\n",
      "15    Male   Yellow   November       90\n",
      "16    Male    Black      August      54\n",
      "17    Male    Black     January      82\n",
      "18    Male  Mustard   December       60\n",
      "19  Female    Black    October       76\n",
      "20    Male    Black   February       67\n",
      "21    Male   Yellow       April      74\n",
      "22    Male      Red  September       66\n"
     ]
    }
   ],
   "source": [
    "print(df.dropna())"
   ]
  }
 ],
 "metadata": {
  "kernelspec": {
   "display_name": "Python 3 (ipykernel)",
   "language": "python",
   "name": "python3"
  },
  "language_info": {
   "codemirror_mode": {
    "name": "ipython",
    "version": 3
   },
   "file_extension": ".py",
   "mimetype": "text/x-python",
   "name": "python",
   "nbconvert_exporter": "python",
   "pygments_lexer": "ipython3",
   "version": "3.12.4"
  }
 },
 "nbformat": 4,
 "nbformat_minor": 5
}
